{
 "cells": [
  {
   "cell_type": "markdown",
   "metadata": {},
   "source": [
    "# Lista ligada"
   ]
  },
  {
   "cell_type": "markdown",
   "metadata": {},
   "source": [
    "### Definição da Estrutura da Lista Ligada"
   ]
  },
  {
   "cell_type": "code",
   "execution_count": 27,
   "metadata": {},
   "outputs": [],
   "source": [
    "class Node:\n",
    "    def __init__(self, data):\n",
    "        self.data = data\n",
    "        self.next = None\n",
    "\n",
    "class LinkedList:\n",
    "    def __init__(self):\n",
    "        self.head = None\n",
    "\n",
    "    def insert_at_beginning(self, data):\n",
    "        new_node = Node(data)\n",
    "        new_node.next = self.head\n",
    "        self.head = new_node\n",
    "\n",
    "    def insert_at_end(self, data):\n",
    "        new_node = Node(data)\n",
    "        if not self.head:\n",
    "            self.head = new_node\n",
    "            return\n",
    "        last_node = self.head\n",
    "        while last_node.next:\n",
    "            last_node = last_node.next\n",
    "        last_node.next = new_node\n",
    "\n",
    "    def insert_after_node(self, prev_node, data):\n",
    "        if not prev_node:\n",
    "            print(\"O nó anterior deve estar na lista.\")\n",
    "            return\n",
    "        new_node = Node(data)\n",
    "        new_node.next = prev_node.next\n",
    "        prev_node.next = new_node\n",
    "\n",
    "    def delete_node(self, key):\n",
    "        current_node = self.head\n",
    "        if current_node and current_node.data == key:\n",
    "            self.head = current_node.next\n",
    "            current_node = None\n",
    "            return\n",
    "        prev = None\n",
    "        while current_node and current_node.data != key:\n",
    "            prev = current_node\n",
    "            current_node = current_node.next\n",
    "        if current_node is None:\n",
    "            return\n",
    "        prev.next = current_node.next\n",
    "        current_node = None\n",
    "\n",
    "    def print_list(self):\n",
    "        current_node = self.head\n",
    "        while current_node:\n",
    "            print(current_node.data, end=\" -> \")\n",
    "            current_node = current_node.next\n",
    "        print(\"None\")\n",
    "    \n",
    "    def search(self, key):\n",
    "        current_node = self.head\n",
    "        while current_node:\n",
    "            if current_node.data == key:\n",
    "                return True\n",
    "            current_node = current_node.next\n",
    "        return False\n",
    "\n",
    "    def length(self):\n",
    "        count = 0\n",
    "        current_node = self.head\n",
    "        while current_node:\n",
    "            count += 1\n",
    "            current_node = current_node.next\n",
    "        return count\n"
   ]
  },
  {
   "cell_type": "markdown",
   "metadata": {},
   "source": [
    "### Operações Básicas"
   ]
  },
  {
   "cell_type": "code",
   "execution_count": 28,
   "metadata": {},
   "outputs": [
    {
     "name": "stdout",
     "output_type": "stream",
     "text": [
      "1 -> 2 -> 3 -> 4 -> 5 -> None\n"
     ]
    }
   ],
   "source": [
    "# Criação de uma lista ligada vazia\n",
    "linked_list = LinkedList()\n",
    "\n",
    "# Inserção de elementos no início\n",
    "linked_list.insert_at_beginning(3)\n",
    "linked_list.insert_at_beginning(2)\n",
    "linked_list.insert_at_beginning(1)\n",
    "\n",
    "# Inserção de elementos no final\n",
    "linked_list.insert_at_end(4)\n",
    "linked_list.insert_at_end(5)\n",
    "\n",
    "# Impressão da lista\n",
    "linked_list.print_list()  # Output: 1 -> 2 -> 3 -> 4 -> 5 -> None"
   ]
  },
  {
   "cell_type": "markdown",
   "metadata": {},
   "source": [
    "### Inserção Após um Nó Específico"
   ]
  },
  {
   "cell_type": "code",
   "execution_count": 29,
   "metadata": {},
   "outputs": [
    {
     "name": "stdout",
     "output_type": "stream",
     "text": [
      "1 -> 2 -> 6 -> 3 -> 4 -> 5 -> None\n"
     ]
    }
   ],
   "source": [
    "# Inserindo 6 após o segundo nó (com valor 2)\n",
    "second_node = linked_list.head.next\n",
    "linked_list.insert_after_node(second_node, 6)\n",
    "linked_list.print_list()  # Output: 1 -> 2 -> 6 -> 3 -> 4 -> 5 -> None"
   ]
  },
  {
   "cell_type": "markdown",
   "metadata": {},
   "source": [
    "### Remoção de um Nó"
   ]
  },
  {
   "cell_type": "code",
   "execution_count": 30,
   "metadata": {},
   "outputs": [
    {
     "name": "stdout",
     "output_type": "stream",
     "text": [
      "1 -> 2 -> 3 -> 4 -> 5 -> None\n",
      "2 -> 3 -> 4 -> 5 -> None\n"
     ]
    }
   ],
   "source": [
    "# Removendo um nó com valor específico\n",
    "linked_list.delete_node(6)\n",
    "linked_list.print_list()  # Output: 1 -> 2 -> 3 -> 4 -> 5 -> None\n",
    "\n",
    "# Removendo o primeiro nó (cabeça)\n",
    "linked_list.delete_node(1)\n",
    "linked_list.print_list()  # Output: 2 -> 3 -> 4 -> 5 -> None"
   ]
  },
  {
   "cell_type": "markdown",
   "metadata": {},
   "source": [
    "### Iteração sobre a Lista Ligada"
   ]
  },
  {
   "cell_type": "code",
   "execution_count": 31,
   "metadata": {},
   "outputs": [
    {
     "name": "stdout",
     "output_type": "stream",
     "text": [
      "2 -> 3 -> 4 -> 5 -> None\n"
     ]
    }
   ],
   "source": [
    "# Iterando sobre os elementos da lista ligada\n",
    "current_node = linked_list.head\n",
    "while current_node:\n",
    "    print(current_node.data, end=\" -> \")\n",
    "    current_node = current_node.next\n",
    "print(\"None\")"
   ]
  },
  {
   "cell_type": "markdown",
   "metadata": {},
   "source": [
    "### Outras Operações Úteis"
   ]
  },
  {
   "cell_type": "code",
   "execution_count": 32,
   "metadata": {},
   "outputs": [
    {
     "name": "stdout",
     "output_type": "stream",
     "text": [
      "True\n",
      "False\n",
      "4\n"
     ]
    }
   ],
   "source": [
    "# Verificando se um elemento está na lista\n",
    "def search(self, key):\n",
    "    current_node = self.head\n",
    "    while current_node:\n",
    "        if current_node.data == key:\n",
    "            return True\n",
    "        current_node = current_node.next\n",
    "    return False\n",
    "\n",
    "# Obtendo o comprimento da lista\n",
    "def length(self):\n",
    "    count = 0\n",
    "    current_node = self.head\n",
    "    while current_node:\n",
    "        count += 1\n",
    "        current_node = current_node.next\n",
    "    return count\n",
    "\n",
    "# Uso das funções de verificação e comprimento\n",
    "print(linked_list.search(4))  # True\n",
    "print(linked_list.search(10))  # False\n",
    "print(linked_list.length())  # 4"
   ]
  }
 ],
 "metadata": {
  "kernelspec": {
   "display_name": "Python 3",
   "language": "python",
   "name": "python3"
  },
  "language_info": {
   "codemirror_mode": {
    "name": "ipython",
    "version": 3
   },
   "file_extension": ".py",
   "mimetype": "text/x-python",
   "name": "python",
   "nbconvert_exporter": "python",
   "pygments_lexer": "ipython3",
   "version": "3.12.2"
  }
 },
 "nbformat": 4,
 "nbformat_minor": 2
}
