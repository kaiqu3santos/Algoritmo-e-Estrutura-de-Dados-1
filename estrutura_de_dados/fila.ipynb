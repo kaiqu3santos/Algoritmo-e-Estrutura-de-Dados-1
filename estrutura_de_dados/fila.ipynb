{
 "cells": [
  {
   "cell_type": "markdown",
   "metadata": {},
   "source": [
    "# Fila"
   ]
  },
  {
   "cell_type": "markdown",
   "metadata": {},
   "source": [
    "### Definição da Estrutura da Fila"
   ]
  },
  {
   "cell_type": "code",
   "execution_count": 1,
   "metadata": {},
   "outputs": [],
   "source": [
    "class Queue:\n",
    "    def __init__(self):\n",
    "        self.queue = []\n",
    "\n",
    "    # Verifica se a fila está vazia\n",
    "    def is_empty(self):\n",
    "        return len(self.queue) == 0\n",
    "\n",
    "    # Adiciona um elemento no final da fila\n",
    "    def enqueue(self, item):\n",
    "        self.queue.append(item)\n",
    "\n",
    "    # Remove e retorna o elemento do início da fila\n",
    "    def dequeue(self):\n",
    "        if self.is_empty():\n",
    "            return \"A fila está vazia.\"\n",
    "        return self.queue.pop(0)\n",
    "\n",
    "    # Retorna o elemento do início da fila sem removê-lo\n",
    "    def peek(self):\n",
    "        if self.is_empty():\n",
    "            return \"A fila está vazia.\"\n",
    "        return self.queue[0]\n",
    "\n",
    "    # Retorna o tamanho da fila\n",
    "    def size(self):\n",
    "        return len(self.queue)\n",
    "\n",
    "    # Imprime os elementos da fila\n",
    "    def print_queue(self):\n",
    "        print(self.queue)"
   ]
  },
  {
   "cell_type": "markdown",
   "metadata": {},
   "source": [
    "### Criação da Fila e Inserção de Elementos"
   ]
  },
  {
   "cell_type": "code",
   "execution_count": 2,
   "metadata": {},
   "outputs": [
    {
     "name": "stdout",
     "output_type": "stream",
     "text": [
      "[1, 2, 3]\n"
     ]
    }
   ],
   "source": [
    "# Criação de uma fila vazia\n",
    "queue = Queue()\n",
    "\n",
    "# Inserção de elementos na fila\n",
    "queue.enqueue(1)\n",
    "queue.enqueue(2)\n",
    "queue.enqueue(3)\n",
    "\n",
    "# Impressão da fila\n",
    "queue.print_queue()  # Output: [1, 2, 3]"
   ]
  },
  {
   "cell_type": "markdown",
   "metadata": {},
   "source": [
    "### Remoção de Elementos"
   ]
  },
  {
   "cell_type": "code",
   "execution_count": 4,
   "metadata": {},
   "outputs": [
    {
     "name": "stdout",
     "output_type": "stream",
     "text": [
      "2\n",
      "[3]\n",
      "3\n",
      "[3]\n"
     ]
    }
   ],
   "source": [
    "# Removendo o elemento do início da fila\n",
    "print(queue.dequeue())  # Output: 1\n",
    "queue.print_queue()  # Output: [2, 3]\n",
    "\n",
    "# Verificando o elemento do início sem removê-lo\n",
    "print(queue.peek())  # Output: 2\n",
    "queue.print_queue()  # Output: [2, 3]"
   ]
  },
  {
   "cell_type": "markdown",
   "metadata": {},
   "source": [
    "### Verificação do Tamanho e se Está Vazia"
   ]
  },
  {
   "cell_type": "code",
   "execution_count": 5,
   "metadata": {},
   "outputs": [
    {
     "name": "stdout",
     "output_type": "stream",
     "text": [
      "1\n",
      "False\n",
      "True\n",
      "A fila está vazia.\n"
     ]
    }
   ],
   "source": [
    "# Verificando o tamanho da fila\n",
    "print(queue.size())  # Output: 2\n",
    "\n",
    "# Verificando se a fila está vazia\n",
    "print(queue.is_empty())  # Output: False\n",
    "\n",
    "# Removendo todos os elementos\n",
    "queue.dequeue()\n",
    "queue.dequeue()\n",
    "\n",
    "# Verificando se a fila está vazia novamente\n",
    "print(queue.is_empty())  # Output: True\n",
    "\n",
    "# Tentando remover um elemento de uma fila vazia\n",
    "print(queue.dequeue())  # Output: \"A fila está vazia.\""
   ]
  }
 ],
 "metadata": {
  "kernelspec": {
   "display_name": "Python 3",
   "language": "python",
   "name": "python3"
  },
  "language_info": {
   "codemirror_mode": {
    "name": "ipython",
    "version": 3
   },
   "file_extension": ".py",
   "mimetype": "text/x-python",
   "name": "python",
   "nbconvert_exporter": "python",
   "pygments_lexer": "ipython3",
   "version": "3.12.2"
  }
 },
 "nbformat": 4,
 "nbformat_minor": 2
}
