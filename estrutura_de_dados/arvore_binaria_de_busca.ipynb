{
 "cells": [
  {
   "cell_type": "markdown",
   "metadata": {},
   "source": [
    "# Árvore Binária de Busca"
   ]
  },
  {
   "cell_type": "markdown",
   "metadata": {},
   "source": [
    "### Código para Árvore Binária de Busca"
   ]
  },
  {
   "cell_type": "code",
   "execution_count": 3,
   "metadata": {},
   "outputs": [],
   "source": [
    "class Node:\n",
    "    def __init__(self, key):\n",
    "        self.left = None\n",
    "        self.right = None\n",
    "        self.key = key\n",
    "\n",
    "class BinarySearchTree:\n",
    "    def __init__(self):\n",
    "        self.root = None\n",
    "\n",
    "    def insert(self, key):\n",
    "        if self.root is None:\n",
    "            self.root = Node(key)\n",
    "        else:\n",
    "            self._insert(self.root, key)\n",
    "\n",
    "    def _insert(self, node, key):\n",
    "        if key < node.key:\n",
    "            if node.left is None:\n",
    "                node.left = Node(key)\n",
    "            else:\n",
    "                self._insert(node.left, key)\n",
    "        else:\n",
    "            if node.right is None:\n",
    "                node.right = Node(key)\n",
    "            else:\n",
    "                self._insert(node.right, key)\n",
    "\n",
    "    def search(self, key):\n",
    "        return self._search(self.root, key)\n",
    "\n",
    "    def _search(self, node, key):\n",
    "        if node is None or node.key == key:\n",
    "            return node is not None\n",
    "        if key < node.key:\n",
    "            return self._search(node.left, key)\n",
    "        else:\n",
    "            return self._search(node.right, key)\n",
    "\n",
    "    def delete(self, key):\n",
    "        self.root = self._delete(self.root, key)\n",
    "\n",
    "    def _delete(self, node, key):\n",
    "        if node is None:\n",
    "            return node\n",
    "\n",
    "        if key < node.key:\n",
    "            node.left = self._delete(node.left, key)\n",
    "        elif key > node.key:\n",
    "            node.right = self._delete(node.right, key)\n",
    "        else:\n",
    "            # Nodo com apenas um filho ou nenhum filho\n",
    "            if node.left is None:\n",
    "                return node.right\n",
    "            elif node.right is None:\n",
    "                return node.left\n",
    "\n",
    "            # Nodo com dois filhos: obter o sucessor inorder (mínimo na subárvore direita)\n",
    "            temp = self._min_value_node(node.right)\n",
    "            node.key = temp.key\n",
    "            node.right = self._delete(node.right, temp.key)\n",
    "\n",
    "        return node\n",
    "\n",
    "    def _min_value_node(self, node):\n",
    "        current = node\n",
    "        while current.left is not None:\n",
    "            current = current.left\n",
    "        return current\n",
    "\n",
    "    def inorder_traversal(self):\n",
    "        elements = []\n",
    "        self._inorder_traversal(self.root, elements)\n",
    "        return elements\n",
    "\n",
    "    def _inorder_traversal(self, node, elements):\n",
    "        if node:\n",
    "            self._inorder_traversal(node.left, elements)\n",
    "            elements.append(node.key)\n",
    "            self._inorder_traversal(node.right, elements)\n",
    "\n",
    "    def preorder_traversal(self):\n",
    "        elements = []\n",
    "        self._preorder_traversal(self.root, elements)\n",
    "        return elements\n",
    "\n",
    "    def _preorder_traversal(self, node, elements):\n",
    "        if node:\n",
    "            elements.append(node.key)\n",
    "            self._preorder_traversal(node.left, elements)\n",
    "            self._preorder_traversal(node.right, elements)\n",
    "\n",
    "    def postorder_traversal(self):\n",
    "        elements = []\n",
    "        self._postorder_traversal(self.root, elements)\n",
    "        return elements\n",
    "\n",
    "    def _postorder_traversal(self, node, elements):\n",
    "        if node:\n",
    "            self._postorder_traversal(node.left, elements)\n",
    "            self._postorder_traversal(node.right, elements)\n",
    "            elements.append(node.key)"
   ]
  },
  {
   "cell_type": "markdown",
   "metadata": {},
   "source": [
    "### Inserção de Nós"
   ]
  },
  {
   "cell_type": "code",
   "execution_count": 4,
   "metadata": {},
   "outputs": [],
   "source": [
    "# Criação de uma árvore binária de busca\n",
    "bst = BinarySearchTree()\n",
    "\n",
    "# Inserção de nós na árvore\n",
    "bst.insert(10)\n",
    "bst.insert(5)\n",
    "bst.insert(15)\n",
    "bst.insert(2)\n",
    "bst.insert(7)\n",
    "bst.insert(12)\n",
    "bst.insert(17)"
   ]
  },
  {
   "cell_type": "markdown",
   "metadata": {},
   "source": [
    "### Busca de Nós"
   ]
  },
  {
   "cell_type": "code",
   "execution_count": 5,
   "metadata": {},
   "outputs": [
    {
     "name": "stdout",
     "output_type": "stream",
     "text": [
      "True\n",
      "False\n"
     ]
    }
   ],
   "source": [
    "# Busca de nós na árvore\n",
    "print(bst.search(7))  # Output: True\n",
    "print(bst.search(20))  # Output: False"
   ]
  },
  {
   "cell_type": "markdown",
   "metadata": {},
   "source": [
    "### Remoção de Nós"
   ]
  },
  {
   "cell_type": "code",
   "execution_count": 6,
   "metadata": {},
   "outputs": [
    {
     "name": "stdout",
     "output_type": "stream",
     "text": [
      "[2, 5, 7, 10, 12, 17]\n"
     ]
    }
   ],
   "source": [
    "# Remoção de um nó\n",
    "bst.delete(15)\n",
    "\n",
    "# Impressão da árvore após a remoção\n",
    "print(bst.inorder_traversal())  # Output: [2, 5, 7, 10, 12, 17]"
   ]
  },
  {
   "cell_type": "markdown",
   "metadata": {},
   "source": [
    "### Percursos na Árvore"
   ]
  },
  {
   "cell_type": "code",
   "execution_count": 8,
   "metadata": {},
   "outputs": [
    {
     "name": "stdout",
     "output_type": "stream",
     "text": [
      "[2, 5, 7, 10, 12, 17]\n",
      "[10, 5, 2, 7, 17, 12]\n",
      "[2, 7, 5, 12, 17, 10]\n"
     ]
    }
   ],
   "source": [
    "# Percurso em ordem (inorder traversal)\n",
    "print(bst.inorder_traversal())  # Output: [2, 5, 7, 10, 12, 17]\n",
    "\n",
    "# Percurso pré-ordem (preorder traversal)\n",
    "print(bst.preorder_traversal())  # Output: [10, 5, 2, 7, 17, 12]\n",
    "\n",
    "# Percurso pós-ordem (postorder traversal)\n",
    "print(bst.postorder_traversal())  # Output: [2, 7, 5, 12, 17, 10]"
   ]
  }
 ],
 "metadata": {
  "kernelspec": {
   "display_name": "Python 3",
   "language": "python",
   "name": "python3"
  },
  "language_info": {
   "codemirror_mode": {
    "name": "ipython",
    "version": 3
   },
   "file_extension": ".py",
   "mimetype": "text/x-python",
   "name": "python",
   "nbconvert_exporter": "python",
   "pygments_lexer": "ipython3",
   "version": "3.12.2"
  }
 },
 "nbformat": 4,
 "nbformat_minor": 2
}
