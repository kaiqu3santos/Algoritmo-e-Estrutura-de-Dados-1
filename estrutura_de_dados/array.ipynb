{
 "cells": [
  {
   "cell_type": "markdown",
   "metadata": {},
   "source": [
    "# Array"
   ]
  },
  {
   "cell_type": "markdown",
   "metadata": {},
   "source": [
    "### Criação de Arrays"
   ]
  },
  {
   "cell_type": "code",
   "execution_count": 11,
   "metadata": {},
   "outputs": [],
   "source": [
    "# Criando um array (lista) vazio\n",
    "array_vazio = []\n",
    "\n",
    "# Criando um array com elementos iniciais\n",
    "array_inicial = [1, 2, 3, 4, 5]"
   ]
  },
  {
   "cell_type": "markdown",
   "metadata": {},
   "source": [
    "### Acesso a Elementos"
   ]
  },
  {
   "cell_type": "code",
   "execution_count": 12,
   "metadata": {},
   "outputs": [
    {
     "name": "stdout",
     "output_type": "stream",
     "text": [
      "Primeiro elemento: 1\n",
      "Segundo elemento: 2\n",
      "Último elemento: 5\n"
     ]
    }
   ],
   "source": [
    "# Acessando elementos pelo índice (índices começam em 0)\n",
    "primeiro_elemento = array_inicial[0]  # 1\n",
    "segundo_elemento = array_inicial[1]  # 2\n",
    "ultimo_elemento = array_inicial[-1]  # 5 (índice negativo acessa de trás para frente)\n",
    "\n",
    "print(f\"Primeiro elemento: {primeiro_elemento}\")\n",
    "print(f\"Segundo elemento: {segundo_elemento}\")\n",
    "print(f\"Último elemento: {ultimo_elemento}\")"
   ]
  },
  {
   "cell_type": "markdown",
   "metadata": {},
   "source": [
    "### Modificação de Elementos\n"
   ]
  },
  {
   "cell_type": "code",
   "execution_count": 13,
   "metadata": {},
   "outputs": [
    {
     "name": "stdout",
     "output_type": "stream",
     "text": [
      "[1, 2, 10, 4, 5]\n"
     ]
    }
   ],
   "source": [
    "# Modificando um elemento\n",
    "array_inicial[2] = 10  # Substitui o valor na posição 2 (índice 2) por 10\n",
    "print(array_inicial)  # [1, 2, 10, 4, 5]"
   ]
  },
  {
   "cell_type": "markdown",
   "metadata": {},
   "source": [
    "### Inserção de Elementos"
   ]
  },
  {
   "cell_type": "code",
   "execution_count": 14,
   "metadata": {},
   "outputs": [
    {
     "name": "stdout",
     "output_type": "stream",
     "text": [
      "[1, 2, 10, 4, 5, 6]\n",
      "[1, 15, 2, 10, 4, 5, 6]\n"
     ]
    }
   ],
   "source": [
    "# Inserindo um elemento no final do array\n",
    "array_inicial.append(6)\n",
    "print(array_inicial)  # [1, 2, 10, 4, 5, 6]\n",
    "\n",
    "# Inserindo um elemento em uma posição específica\n",
    "array_inicial.insert(1, 15)  # Insere o valor 15 na posição 1\n",
    "print(array_inicial)  # [1, 15, 2, 10, 4, 5, 6]"
   ]
  },
  {
   "cell_type": "markdown",
   "metadata": {},
   "source": [
    "### Remoção de Elementos"
   ]
  },
  {
   "cell_type": "code",
   "execution_count": 15,
   "metadata": {},
   "outputs": [
    {
     "name": "stdout",
     "output_type": "stream",
     "text": [
      "[1, 15, 2, 4, 5, 6]\n",
      "[1, 15, 4, 5, 6]\n",
      "Elemento removido: 2\n"
     ]
    }
   ],
   "source": [
    "# Removendo um elemento pelo valor\n",
    "array_inicial.remove(10)  # Remove o primeiro valor 10 que encontrar\n",
    "print(array_inicial)  # [1, 15, 2, 4, 5, 6]\n",
    "\n",
    "# Removendo um elemento pelo índice\n",
    "elemento_removido = array_inicial.pop(2)  # Remove e retorna o valor na posição 2\n",
    "print(array_inicial)  # [1, 15, 4, 5, 6]\n",
    "print(f\"Elemento removido: {elemento_removido}\")  # 2"
   ]
  },
  {
   "cell_type": "markdown",
   "metadata": {},
   "source": [
    "### Iteração sobre Arrays"
   ]
  },
  {
   "cell_type": "code",
   "execution_count": 16,
   "metadata": {},
   "outputs": [
    {
     "name": "stdout",
     "output_type": "stream",
     "text": [
      "1\n",
      "15\n",
      "4\n",
      "5\n",
      "6\n",
      "Índice 0: 1\n",
      "Índice 1: 15\n",
      "Índice 2: 4\n",
      "Índice 3: 5\n",
      "Índice 4: 6\n"
     ]
    }
   ],
   "source": [
    "# Iterando sobre os elementos do array\n",
    "for elemento in array_inicial:\n",
    "    print(elemento)\n",
    "\n",
    "# Iterando com acesso aos índices\n",
    "for i in range(len(array_inicial)):\n",
    "    print(f\"Índice {i}: {array_inicial[i]}\")"
   ]
  },
  {
   "cell_type": "markdown",
   "metadata": {},
   "source": [
    "### Outras Operações Úteis"
   ]
  },
  {
   "cell_type": "code",
   "execution_count": 17,
   "metadata": {},
   "outputs": [
    {
     "name": "stdout",
     "output_type": "stream",
     "text": [
      "True\n",
      "False\n",
      "Tamanho do array: 5\n",
      "[1, 4, 5, 6, 15]\n",
      "[15, 6, 5, 4, 1]\n"
     ]
    }
   ],
   "source": [
    "# Verificando se um elemento está no array\n",
    "print(4 in array_inicial)  # True\n",
    "print(10 in array_inicial)  # False\n",
    "\n",
    "# Obtendo o comprimento do array\n",
    "tamanho = len(array_inicial)\n",
    "print(f\"Tamanho do array: {tamanho}\")  # 5\n",
    "\n",
    "# Ordenando o array\n",
    "array_inicial.sort()\n",
    "print(array_inicial)  # [1, 4, 5, 6, 15]\n",
    "\n",
    "# Invertendo a ordem do array\n",
    "array_inicial.reverse()\n",
    "print(array_inicial)  # [15, 6, 5, 4, 1]"
   ]
  }
 ],
 "metadata": {
  "kernelspec": {
   "display_name": "Python 3",
   "language": "python",
   "name": "python3"
  },
  "language_info": {
   "codemirror_mode": {
    "name": "ipython",
    "version": 3
   },
   "file_extension": ".py",
   "mimetype": "text/x-python",
   "name": "python",
   "nbconvert_exporter": "python",
   "pygments_lexer": "ipython3",
   "version": "3.12.2"
  }
 },
 "nbformat": 4,
 "nbformat_minor": 2
}
