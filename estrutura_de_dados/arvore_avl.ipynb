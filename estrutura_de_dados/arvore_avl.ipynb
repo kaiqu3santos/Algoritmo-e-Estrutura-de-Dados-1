{
 "cells": [
  {
   "cell_type": "markdown",
   "metadata": {},
   "source": [
    "# Árvore AVL"
   ]
  },
  {
   "cell_type": "markdown",
   "metadata": {},
   "source": [
    "### Código para Árvore AVL"
   ]
  },
  {
   "cell_type": "code",
   "execution_count": 1,
   "metadata": {},
   "outputs": [],
   "source": [
    "class Node:\n",
    "    def __init__(self, key):\n",
    "        self.left = None\n",
    "        self.right = None\n",
    "        self.key = key\n",
    "        self.height = 1  # Altura inicial do nó\n",
    "\n",
    "class AVLTree:\n",
    "    def __init__(self):\n",
    "        self.root = None\n",
    "\n",
    "    def insert(self, key):\n",
    "        if self.root is None:\n",
    "            self.root = Node(key)\n",
    "        else:\n",
    "            self.root = self._insert(self.root, key)\n",
    "\n",
    "    def _insert(self, node, key):\n",
    "        # 1. Realiza a inserção normal de BST\n",
    "        if node is None:\n",
    "            return Node(key)\n",
    "\n",
    "        if key < node.key:\n",
    "            node.left = self._insert(node.left, key)\n",
    "        else:\n",
    "            node.right = self._insert(node.right, key)\n",
    "\n",
    "        # 2. Atualiza a altura do nó\n",
    "        node.height = 1 + max(self._get_height(node.left), self._get_height(node.right))\n",
    "\n",
    "        # 3. Obtém o fator de balanceamento do nó\n",
    "        balance = self._get_balance(node)\n",
    "\n",
    "        # 4. Se o nó ficar desbalanceado, então há 4 casos\n",
    "\n",
    "        # Caso Esquerda-Esquerda\n",
    "        if balance > 1 and key < node.left.key:\n",
    "            return self._right_rotate(node)\n",
    "\n",
    "        # Caso Direita-Direita\n",
    "        if balance < -1 and key > node.right.key:\n",
    "            return self._left_rotate(node)\n",
    "\n",
    "        # Caso Esquerda-Direita\n",
    "        if balance > 1 and key > node.left.key:\n",
    "            node.left = self._left_rotate(node.left)\n",
    "            return self._right_rotate(node)\n",
    "\n",
    "        # Caso Direita-Esquerda\n",
    "        if balance < -1 and key < node.right.key:\n",
    "            node.right = self._right_rotate(node.right)\n",
    "            return self._left_rotate(node)\n",
    "\n",
    "        return node\n",
    "\n",
    "    def _left_rotate(self, z):\n",
    "        y = z.right\n",
    "        T2 = y.left\n",
    "\n",
    "        y.left = z\n",
    "        z.right = T2\n",
    "\n",
    "        z.height = 1 + max(self._get_height(z.left), self._get_height(z.right))\n",
    "        y.height = 1 + max(self._get_height(y.left), self._get_height(y.right))\n",
    "\n",
    "        return y\n",
    "\n",
    "    def _right_rotate(self, z):\n",
    "        y = z.left\n",
    "        T3 = y.right\n",
    "\n",
    "        y.right = z\n",
    "        z.left = T3\n",
    "\n",
    "        z.height = 1 + max(self._get_height(z.left), self._get_height(z.right))\n",
    "        y.height = 1 + max(self._get_height(y.left), self._get_height(y.right))\n",
    "\n",
    "        return y\n",
    "\n",
    "    def _get_height(self, node):\n",
    "        if node is None:\n",
    "            return 0\n",
    "        return node.height\n",
    "\n",
    "    def _get_balance(self, node):\n",
    "        if node is None:\n",
    "            return 0\n",
    "        return self._get_height(node.left) - self._get_height(node.right)\n",
    "\n",
    "    def inorder_traversal(self):\n",
    "        elements = []\n",
    "        self._inorder_traversal(self.root, elements)\n",
    "        return elements\n",
    "\n",
    "    def _inorder_traversal(self, node, elements):\n",
    "        if node:\n",
    "            self._inorder_traversal(node.left, elements)\n",
    "            elements.append(node.key)\n",
    "            self._inorder_traversal(node.right, elements)\n",
    "\n",
    "    def preorder_traversal(self):\n",
    "        elements = []\n",
    "        self._preorder_traversal(self.root, elements)\n",
    "        return elements\n",
    "\n",
    "    def _preorder_traversal(self, node, elements):\n",
    "        if node:\n",
    "            elements.append(node.key)\n",
    "            self._preorder_traversal(node.left, elements)\n",
    "            self._preorder_traversal(node.right, elements)\n",
    "\n",
    "    def postorder_traversal(self):\n",
    "        elements = []\n",
    "        self._postorder_traversal(self.root, elements)\n",
    "        return elements\n",
    "\n",
    "    def _postorder_traversal(self, node, elements):\n",
    "        if node:\n",
    "       \n",
    "            self._postorder_traversal(node.left, elements)\n",
    "            self._postorder_traversal(node.right, elements)\n",
    "            elements.append(node.key)"
   ]
  },
  {
   "cell_type": "markdown",
   "metadata": {},
   "source": [
    "### Inserção de Nós"
   ]
  },
  {
   "cell_type": "code",
   "execution_count": 2,
   "metadata": {},
   "outputs": [],
   "source": [
    "# Criação de uma árvore AVL\n",
    "avl_tree = AVLTree()\n",
    "\n",
    "# Inserção de nós na árvore\n",
    "avl_tree.insert(10)\n",
    "avl_tree.insert(20)\n",
    "avl_tree.insert(30)\n",
    "avl_tree.insert(15)\n",
    "avl_tree.insert(25)\n",
    "avl_tree.insert(5)"
   ]
  },
  {
   "cell_type": "markdown",
   "metadata": {},
   "source": [
    "### Percursos na Árvore"
   ]
  },
  {
   "cell_type": "code",
   "execution_count": 3,
   "metadata": {},
   "outputs": [
    {
     "name": "stdout",
     "output_type": "stream",
     "text": [
      "[5, 10, 15, 20, 25, 30]\n",
      "[20, 10, 5, 15, 30, 25]\n",
      "[5, 15, 10, 25, 30, 20]\n"
     ]
    }
   ],
   "source": [
    "# Percurso em ordem (inorder traversal)\n",
    "print(avl_tree.inorder_traversal())  # Output: [5, 10, 15, 20, 25, 30]\n",
    "\n",
    "# Percurso pré-ordem (preorder traversal)\n",
    "print(avl_tree.preorder_traversal())  # Output: [20, 10, 5, 15, 30, 25]\n",
    "\n",
    "# Percurso pós-ordem (postorder traversal)\n",
    "print(avl_tree.postorder_traversal())  # Output: [5, 15, 10, 25, 30, 20]"
   ]
  }
 ],
 "metadata": {
  "kernelspec": {
   "display_name": "Python 3",
   "language": "python",
   "name": "python3"
  },
  "language_info": {
   "codemirror_mode": {
    "name": "ipython",
    "version": 3
   },
   "file_extension": ".py",
   "mimetype": "text/x-python",
   "name": "python",
   "nbconvert_exporter": "python",
   "pygments_lexer": "ipython3",
   "version": "3.12.2"
  }
 },
 "nbformat": 4,
 "nbformat_minor": 2
}
