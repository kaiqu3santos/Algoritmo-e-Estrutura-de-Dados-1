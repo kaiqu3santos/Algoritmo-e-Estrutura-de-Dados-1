{
 "cells": [
  {
   "cell_type": "markdown",
   "metadata": {},
   "source": [
    "# Árvore binária"
   ]
  },
  {
   "cell_type": "markdown",
   "metadata": {},
   "source": [
    "### Definição da Estrutura da Árvore Binária"
   ]
  },
  {
   "cell_type": "code",
   "execution_count": 1,
   "metadata": {},
   "outputs": [],
   "source": [
    "class Node:\n",
    "    def __init__(self, key):\n",
    "        self.left = None\n",
    "        self.right = None\n",
    "        self.key = key\n",
    "\n",
    "class BinaryTree:\n",
    "    def __init__(self):\n",
    "        self.root = None\n",
    "\n",
    "    def insert(self, key):\n",
    "        if self.root is None:\n",
    "            self.root = Node(key)\n",
    "        else:\n",
    "            self._insert(self.root, key)\n",
    "\n",
    "    def _insert(self, node, key):\n",
    "        if key < node.key:\n",
    "            if node.left is None:\n",
    "                node.left = Node(key)\n",
    "            else:\n",
    "                self._insert(node.left, key)\n",
    "        else:\n",
    "            if node.right is None:\n",
    "                node.right = Node(key)\n",
    "            else:\n",
    "                self._insert(node.right, key)\n",
    "\n",
    "    def search(self, key):\n",
    "        return self._search(self.root, key)\n",
    "\n",
    "    def _search(self, node, key):\n",
    "        if node is None or node.key == key:\n",
    "            return node is not None\n",
    "        if key < node.key:\n",
    "            return self._search(node.left, key)\n",
    "        else:\n",
    "            return self._search(node.right, key)\n",
    "\n",
    "    def inorder_traversal(self):\n",
    "        elements = []\n",
    "        self._inorder_traversal(self.root, elements)\n",
    "        return elements\n",
    "\n",
    "    def _inorder_traversal(self, node, elements):\n",
    "        if node:\n",
    "            self._inorder_traversal(node.left, elements)\n",
    "            elements.append(node.key)\n",
    "            self._inorder_traversal(node.right, elements)\n",
    "\n",
    "    def preorder_traversal(self):\n",
    "        elements = []\n",
    "        self._preorder_traversal(self.root, elements)\n",
    "        return elements\n",
    "\n",
    "    def _preorder_traversal(self, node, elements):\n",
    "        if node:\n",
    "            elements.append(node.key)\n",
    "            self._preorder_traversal(node.left, elements)\n",
    "            self._preorder_traversal(node.right, elements)\n",
    "\n",
    "    def postorder_traversal(self):\n",
    "        elements = []\n",
    "        self._postorder_traversal(self.root, elements)\n",
    "        return elements\n",
    "\n",
    "    def _postorder_traversal(self, node, elements):\n",
    "        if node:\n",
    "            self._postorder_traversal(node.left, elements)\n",
    "            self._postorder_traversal(node.right, elements)\n",
    "            elements.append(node.key)"
   ]
  },
  {
   "cell_type": "markdown",
   "metadata": {},
   "source": [
    "### Inserção de Nós"
   ]
  },
  {
   "cell_type": "code",
   "execution_count": 2,
   "metadata": {},
   "outputs": [],
   "source": [
    "# Criação de uma árvore binária\n",
    "tree = BinaryTree()\n",
    "\n",
    "# Inserção de nós na árvore\n",
    "tree.insert(10)\n",
    "tree.insert(5)\n",
    "tree.insert(15)\n",
    "tree.insert(2)\n",
    "tree.insert(7)\n",
    "tree.insert(12)\n",
    "tree.insert(17)"
   ]
  },
  {
   "cell_type": "markdown",
   "metadata": {},
   "source": [
    "### Busca de Nós"
   ]
  },
  {
   "cell_type": "code",
   "execution_count": 3,
   "metadata": {},
   "outputs": [
    {
     "name": "stdout",
     "output_type": "stream",
     "text": [
      "True\n",
      "False\n"
     ]
    }
   ],
   "source": [
    "# Busca de nós na árvore\n",
    "print(tree.search(7))  # Output: True\n",
    "print(tree.search(20))  # Output: False"
   ]
  },
  {
   "cell_type": "markdown",
   "metadata": {},
   "source": [
    "### Percursos na Árvore"
   ]
  },
  {
   "cell_type": "code",
   "execution_count": 4,
   "metadata": {},
   "outputs": [
    {
     "name": "stdout",
     "output_type": "stream",
     "text": [
      "[2, 5, 7, 10, 12, 15, 17]\n",
      "[10, 5, 2, 7, 15, 12, 17]\n",
      "[2, 7, 5, 12, 17, 15, 10]\n"
     ]
    }
   ],
   "source": [
    "# Percurso em ordem (inorder traversal)\n",
    "print(tree.inorder_traversal())  # Output: [2, 5, 7, 10, 12, 15, 17]\n",
    "\n",
    "# Percurso pré-ordem (preorder traversal)\n",
    "print(tree.preorder_traversal())  # Output: [10, 5, 2, 7, 15, 12, 17]\n",
    "\n",
    "# Percurso pós-ordem (postorder traversal)\n",
    "print(tree.postorder_traversal())  # Output: [2, 7, 5, 12, 17, 15, 10]"
   ]
  }
 ],
 "metadata": {
  "kernelspec": {
   "display_name": "Python 3",
   "language": "python",
   "name": "python3"
  },
  "language_info": {
   "codemirror_mode": {
    "name": "ipython",
    "version": 3
   },
   "file_extension": ".py",
   "mimetype": "text/x-python",
   "name": "python",
   "nbconvert_exporter": "python",
   "pygments_lexer": "ipython3",
   "version": "3.12.2"
  }
 },
 "nbformat": 4,
 "nbformat_minor": 2
}
