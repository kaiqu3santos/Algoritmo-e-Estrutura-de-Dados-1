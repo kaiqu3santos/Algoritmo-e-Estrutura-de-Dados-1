{
 "cells": [
  {
   "cell_type": "markdown",
   "metadata": {},
   "source": [
    "# Pilha"
   ]
  },
  {
   "cell_type": "markdown",
   "metadata": {},
   "source": [
    "### Definição da Estrutura da Pilha"
   ]
  },
  {
   "cell_type": "code",
   "execution_count": 1,
   "metadata": {},
   "outputs": [],
   "source": [
    "class Stack:\n",
    "    def __init__(self):\n",
    "        self.stack = []\n",
    "\n",
    "    # Verifica se a pilha está vazia\n",
    "    def is_empty(self):\n",
    "        return len(self.stack) == 0\n",
    "\n",
    "    # Adiciona um elemento no topo da pilha\n",
    "    def push(self, item):\n",
    "        self.stack.append(item)\n",
    "\n",
    "    # Remove e retorna o elemento do topo da pilha\n",
    "    def pop(self):\n",
    "        if self.is_empty():\n",
    "            return \"A pilha está vazia.\"\n",
    "        return self.stack.pop()\n",
    "\n",
    "    # Retorna o elemento do topo da pilha sem removê-lo\n",
    "    def peek(self):\n",
    "        if self.is_empty():\n",
    "            return \"A pilha está vazia.\"\n",
    "        return self.stack[-1]\n",
    "\n",
    "    # Retorna o tamanho da pilha\n",
    "    def size(self):\n",
    "        return len(self.stack)\n",
    "\n",
    "    # Imprime os elementos da pilha\n",
    "    def print_stack(self):\n",
    "        print(self.stack)"
   ]
  },
  {
   "cell_type": "markdown",
   "metadata": {},
   "source": [
    "### Criação da Pilha e Inserção de Elementos"
   ]
  },
  {
   "cell_type": "code",
   "execution_count": 3,
   "metadata": {},
   "outputs": [
    {
     "name": "stdout",
     "output_type": "stream",
     "text": [
      "[1, 2, 3]\n"
     ]
    }
   ],
   "source": [
    "# Criação de uma pilha vazia\n",
    "stack = Stack()\n",
    "\n",
    "# Inserção de elementos na pilha\n",
    "stack.push(1)\n",
    "stack.push(2)\n",
    "stack.push(3)\n",
    "\n",
    "# Impressão da pilha\n",
    "stack.print_stack()  # Output: [1, 2, 3]"
   ]
  },
  {
   "cell_type": "markdown",
   "metadata": {},
   "source": [
    "### Remoção de Elementos"
   ]
  },
  {
   "cell_type": "code",
   "execution_count": 5,
   "metadata": {},
   "outputs": [
    {
     "name": "stdout",
     "output_type": "stream",
     "text": [
      "2\n",
      "[1]\n",
      "1\n",
      "[1]\n"
     ]
    }
   ],
   "source": [
    "# Removendo o elemento do topo da pilha\n",
    "print(stack.pop())  # Output: 3\n",
    "stack.print_stack()  # Output: [1, 2]\n",
    "\n",
    "# Verificando o elemento do topo sem removê-lo\n",
    "print(stack.peek())  # Output: 2\n",
    "stack.print_stack()  # Output: [1, 2]"
   ]
  },
  {
   "cell_type": "markdown",
   "metadata": {},
   "source": [
    "### Verificação do Tamanho e se Está Vazia"
   ]
  },
  {
   "cell_type": "code",
   "execution_count": 6,
   "metadata": {},
   "outputs": [
    {
     "name": "stdout",
     "output_type": "stream",
     "text": [
      "1\n",
      "False\n",
      "True\n",
      "A pilha está vazia.\n"
     ]
    }
   ],
   "source": [
    "# Verificando o tamanho da pilha\n",
    "print(stack.size())  # Output: 2\n",
    "\n",
    "# Verificando se a pilha está vazia\n",
    "print(stack.is_empty())  # Output: False\n",
    "\n",
    "# Removendo todos os elementos\n",
    "stack.pop()\n",
    "stack.pop()\n",
    "\n",
    "# Verificando se a pilha está vazia novamente\n",
    "print(stack.is_empty())  # Output: True\n",
    "\n",
    "# Tentando remover um elemento de uma pilha vazia\n",
    "print(stack.pop())  # Output: \"A pilha está vazia.\""
   ]
  }
 ],
 "metadata": {
  "kernelspec": {
   "display_name": "Python 3",
   "language": "python",
   "name": "python3"
  },
  "language_info": {
   "codemirror_mode": {
    "name": "ipython",
    "version": 3
   },
   "file_extension": ".py",
   "mimetype": "text/x-python",
   "name": "python",
   "nbconvert_exporter": "python",
   "pygments_lexer": "ipython3",
   "version": "3.12.2"
  }
 },
 "nbformat": 4,
 "nbformat_minor": 2
}
