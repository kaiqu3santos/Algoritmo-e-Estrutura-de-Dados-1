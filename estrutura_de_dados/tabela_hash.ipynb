{
 "cells": [
  {
   "cell_type": "markdown",
   "metadata": {},
   "source": [
    "# Tabela hash"
   ]
  },
  {
   "cell_type": "markdown",
   "metadata": {},
   "source": [
    "### Definição da Estrutura da Tabela Hash"
   ]
  },
  {
   "cell_type": "code",
   "execution_count": 1,
   "metadata": {},
   "outputs": [],
   "source": [
    "class HashTable:\n",
    "    def __init__(self, size):\n",
    "        self.size = size\n",
    "        self.table = [[] for _ in range(size)]\n",
    "\n",
    "    def hash_function(self, key):\n",
    "        return hash(key) % self.size\n",
    "\n",
    "    def put(self, key, value):\n",
    "        hash_index = self.hash_function(key)\n",
    "        for i, kv in enumerate(self.table[hash_index]):\n",
    "            k, v = kv\n",
    "            if key == k:\n",
    "                self.table[hash_index][i] = (key, value)\n",
    "                return\n",
    "        self.table[hash_index].append((key, value))\n",
    "\n",
    "    def get(self, key):\n",
    "        hash_index = self.hash_function(key)\n",
    "        for kv in self.table[hash_index]:\n",
    "            k, v = kv\n",
    "            if key == k:\n",
    "                return v\n",
    "        return None\n",
    "\n",
    "    def delete(self, key):\n",
    "        hash_index = self.hash_function(key)\n",
    "        for i, kv in enumerate(self.table[hash_index]):\n",
    "            k, v = kv\n",
    "            if key == k:\n",
    "                del self.table[hash_index][i]\n",
    "                return\n",
    "\n",
    "    def contains(self, key):\n",
    "        hash_index = self.hash_function(key)\n",
    "        for k, v in self.table[hash_index]:\n",
    "            if key == k:\n",
    "                return True\n",
    "        return False\n",
    "\n",
    "    def print_table(self):\n",
    "        for i, bucket in enumerate(self.table):\n",
    "            print(f\"Index {i}: {bucket}\")"
   ]
  },
  {
   "cell_type": "markdown",
   "metadata": {},
   "source": [
    "### Criação da Tabela Hash e Inserção de Pares Chave-Valor"
   ]
  },
  {
   "cell_type": "code",
   "execution_count": 2,
   "metadata": {},
   "outputs": [
    {
     "name": "stdout",
     "output_type": "stream",
     "text": [
      "Index 0: []\n",
      "Index 1: []\n",
      "Index 2: []\n",
      "Index 3: []\n",
      "Index 4: [('chave3', 'valor3')]\n",
      "Index 5: []\n",
      "Index 6: []\n",
      "Index 7: [('chave1', 'valor1'), ('chave2', 'valor2')]\n",
      "Index 8: []\n",
      "Index 9: []\n"
     ]
    }
   ],
   "source": [
    "# Criação de uma tabela hash com um tamanho de 10\n",
    "hash_table = HashTable(10)\n",
    "\n",
    "# Inserção de pares chave-valor na tabela hash\n",
    "hash_table.put(\"chave1\", \"valor1\")\n",
    "hash_table.put(\"chave2\", \"valor2\")\n",
    "hash_table.put(\"chave3\", \"valor3\")\n",
    "\n",
    "# Impressão da tabela hash\n",
    "hash_table.print_table()"
   ]
  },
  {
   "cell_type": "markdown",
   "metadata": {},
   "source": [
    "### Recuperação de Valores"
   ]
  },
  {
   "cell_type": "code",
   "execution_count": 3,
   "metadata": {},
   "outputs": [
    {
     "name": "stdout",
     "output_type": "stream",
     "text": [
      "valor1\n",
      "valor2\n",
      "None\n"
     ]
    }
   ],
   "source": [
    "# Recuperando valores associados às chaves\n",
    "print(hash_table.get(\"chave1\"))  # Output: valor1\n",
    "print(hash_table.get(\"chave2\"))  # Output: valor2\n",
    "print(hash_table.get(\"chave4\"))  # Output: None (chave não existe)"
   ]
  },
  {
   "cell_type": "markdown",
   "metadata": {},
   "source": [
    "### Remoção de Pares Chave-Valor"
   ]
  },
  {
   "cell_type": "code",
   "execution_count": 4,
   "metadata": {},
   "outputs": [
    {
     "name": "stdout",
     "output_type": "stream",
     "text": [
      "Index 0: []\n",
      "Index 1: []\n",
      "Index 2: []\n",
      "Index 3: []\n",
      "Index 4: [('chave3', 'valor3')]\n",
      "Index 5: []\n",
      "Index 6: []\n",
      "Index 7: [('chave1', 'valor1')]\n",
      "Index 8: []\n",
      "Index 9: []\n",
      "True\n",
      "False\n"
     ]
    }
   ],
   "source": [
    "# Removendo um par chave-valor\n",
    "hash_table.delete(\"chave2\")\n",
    "hash_table.print_table()  # chave2 deve ser removida\n",
    "\n",
    "# Verificando se uma chave está presente na tabela\n",
    "print(hash_table.contains(\"chave1\"))  # Output: True\n",
    "print(hash_table.contains(\"chave2\"))  # Output: False"
   ]
  }
 ],
 "metadata": {
  "kernelspec": {
   "display_name": "Python 3",
   "language": "python",
   "name": "python3"
  },
  "language_info": {
   "codemirror_mode": {
    "name": "ipython",
    "version": 3
   },
   "file_extension": ".py",
   "mimetype": "text/x-python",
   "name": "python",
   "nbconvert_exporter": "python",
   "pygments_lexer": "ipython3",
   "version": "3.12.2"
  }
 },
 "nbformat": 4,
 "nbformat_minor": 2
}
