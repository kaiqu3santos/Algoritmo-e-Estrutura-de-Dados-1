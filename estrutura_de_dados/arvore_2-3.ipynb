{
 "cells": [
  {
   "cell_type": "markdown",
   "metadata": {},
   "source": [
    "# Árvores 2-3"
   ]
  },
  {
   "cell_type": "markdown",
   "metadata": {},
   "source": [
    "### Código para Árvore 2-3"
   ]
  },
  {
   "cell_type": "code",
   "execution_count": 1,
   "metadata": {},
   "outputs": [],
   "source": [
    "class Node:\n",
    "    def __init__(self, keys=None, children=None, is_leaf=False):\n",
    "        self.keys = keys or []\n",
    "        self.children = children or []\n",
    "        self.is_leaf = is_leaf\n",
    "\n",
    "class Tree23:\n",
    "    def __init__(self):\n",
    "        self.root = Node(is_leaf=True)\n",
    "\n",
    "    def insert(self, key):\n",
    "        root = self.root\n",
    "        if len(root.keys) == 2:\n",
    "            new_root = Node(children=[root])\n",
    "            self.root = new_root\n",
    "            self.split_child(new_root, 0)\n",
    "        self._insert_non_full(self.root, key)\n",
    "\n",
    "    def _insert_non_full(self, node, key):\n",
    "        if node.is_leaf:\n",
    "            self.insert_in_leaf(node, key)\n",
    "        else:\n",
    "            self.insert_in_internal(node, key)\n",
    "\n",
    "    def insert_in_leaf(self, node, key):\n",
    "        node.keys.append(key)\n",
    "        node.keys.sort()\n",
    "\n",
    "    def insert_in_internal(self, node, key):\n",
    "        i = 0\n",
    "        while i < len(node.keys) and key > node.keys[i]:\n",
    "            i += 1\n",
    "        if len(node.children[i].keys) == 2:\n",
    "            self.split_child(node, i)\n",
    "            if key > node.keys[i]:\n",
    "                i += 1\n",
    "        self._insert_non_full(node.children[i], key)\n",
    "\n",
    "    def split_child(self, parent, index):\n",
    "        child = parent.children[index]\n",
    "        mid_index = len(child.keys) // 2\n",
    "        new_child = Node(keys=child.keys[mid_index + 1:], children=child.children[mid_index + 1:], is_leaf=child.is_leaf)\n",
    "\n",
    "        parent.keys.insert(index, child.keys[mid_index])\n",
    "        parent.children.insert(index + 1, new_child)\n",
    "        child.keys = child.keys[:mid_index]\n",
    "        child.children = child.children[:mid_index + 1]\n",
    "\n",
    "    def search(self, key):\n",
    "        return self._search(self.root, key)\n",
    "\n",
    "    def _search(self, node, key):\n",
    "        if key in node.keys:\n",
    "            return True\n",
    "        if node.is_leaf:\n",
    "            return False\n",
    "        i = 0\n",
    "        while i < len(node.keys) and key > node.keys[i]:\n",
    "            i += 1\n",
    "        return self._search(node.children[i], key)\n",
    "\n",
    "    def inorder_traversal(self):\n",
    "        elements = []\n",
    "        self._inorder_traversal(self.root, elements)\n",
    "        return elements\n",
    "\n",
    "    def _inorder_traversal(self, node, elements):\n",
    "        for i, key in enumerate(node.keys):\n",
    "            if not node.is_leaf:\n",
    "                self._inorder_traversal(node.children[i], elements)\n",
    "            elements.append(key)\n",
    "        if not node.is_leaf:\n",
    "            self._inorder_traversal(node.children[-1], elements)"
   ]
  },
  {
   "cell_type": "markdown",
   "metadata": {},
   "source": [
    "### Inserção de Nós"
   ]
  },
  {
   "cell_type": "code",
   "execution_count": 2,
   "metadata": {},
   "outputs": [],
   "source": [
    "# Criação de uma árvore 2-3\n",
    "tree23 = Tree23()\n",
    "\n",
    "# Inserção de nós na árvore\n",
    "tree23.insert(10)\n",
    "tree23.insert(20)\n",
    "tree23.insert(5)\n",
    "tree23.insert(15)\n",
    "tree23.insert(25)\n",
    "tree23.insert(30)\n",
    "tree23.insert(35)"
   ]
  },
  {
   "cell_type": "markdown",
   "metadata": {},
   "source": [
    "### Busca de Nós"
   ]
  },
  {
   "cell_type": "code",
   "execution_count": 3,
   "metadata": {},
   "outputs": [
    {
     "name": "stdout",
     "output_type": "stream",
     "text": [
      "True\n",
      "False\n"
     ]
    }
   ],
   "source": [
    "# Busca de nós na árvore\n",
    "print(tree23.search(15))  # Output: True\n",
    "print(tree23.search(100))  # Output: False"
   ]
  },
  {
   "cell_type": "markdown",
   "metadata": {},
   "source": [
    "### Percursos na Árvore"
   ]
  },
  {
   "cell_type": "code",
   "execution_count": 4,
   "metadata": {},
   "outputs": [
    {
     "name": "stdout",
     "output_type": "stream",
     "text": [
      "[5, 10, 15, 20, 25, 30, 35]\n"
     ]
    }
   ],
   "source": [
    "# Percurso em ordem (inorder traversal)\n",
    "print(tree23.inorder_traversal())  # Output: [5, 10, 15, 20, 25, 30, 35]"
   ]
  }
 ],
 "metadata": {
  "kernelspec": {
   "display_name": "Python 3",
   "language": "python",
   "name": "python3"
  },
  "language_info": {
   "codemirror_mode": {
    "name": "ipython",
    "version": 3
   },
   "file_extension": ".py",
   "mimetype": "text/x-python",
   "name": "python",
   "nbconvert_exporter": "python",
   "pygments_lexer": "ipython3",
   "version": "3.12.2"
  }
 },
 "nbformat": 4,
 "nbformat_minor": 2
}
